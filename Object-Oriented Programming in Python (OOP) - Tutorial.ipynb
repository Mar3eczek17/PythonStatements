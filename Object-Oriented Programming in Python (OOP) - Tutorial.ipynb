{
 "cells": [
  {
   "cell_type": "markdown",
   "id": "8e8da377",
   "metadata": {},
   "source": [
    "# Object-Oriented Programming in Python (OOP): Tutorial"
   ]
  },
  {
   "cell_type": "code",
   "execution_count": 1,
   "id": "6933bab0",
   "metadata": {},
   "outputs": [],
   "source": [
    "# Create a class\n",
    "class Dog:\n",
    "\n",
    "    def __init__(self):\n",
    "        pass"
   ]
  },
  {
   "cell_type": "code",
   "execution_count": 2,
   "id": "0eb1e20a",
   "metadata": {},
   "outputs": [],
   "source": [
    "# Instantiating objects\n",
    "ozzy = Dog()"
   ]
  },
  {
   "cell_type": "code",
   "execution_count": 3,
   "id": "f46c7848",
   "metadata": {},
   "outputs": [
    {
     "name": "stdout",
     "output_type": "stream",
     "text": [
      "<__main__.Dog object at 0x7fcebc64ecd0>\n"
     ]
    }
   ],
   "source": [
    "# And print it:\n",
    "print(ozzy)"
   ]
  },
  {
   "cell_type": "code",
   "execution_count": 4,
   "id": "4342ca24",
   "metadata": {},
   "outputs": [],
   "source": [
    "# Adding attributes to a class\n",
    "class Dog:\n",
    "\n",
    "    def __init__(self, name, age):  \n",
    "        self.name = name\n",
    "        self.age = age"
   ]
  },
  {
   "cell_type": "code",
   "execution_count": 5,
   "id": "8482fe5c",
   "metadata": {},
   "outputs": [],
   "source": [
    "# create a new ozzy object with a name and age:\n",
    "ozzy = Dog(\"Ozzy\", 2)"
   ]
  },
  {
   "cell_type": "code",
   "execution_count": 6,
   "id": "dad5d085",
   "metadata": {},
   "outputs": [
    {
     "name": "stdout",
     "output_type": "stream",
     "text": [
      "Ozzy\n",
      "2\n"
     ]
    }
   ],
   "source": [
    "# To access an object's attributes in Python, you can use the dot notation. This is done by typing the name of the \n",
    "# object, followed by a dot and the attribute's name\n",
    "print(ozzy.name)\n",
    "print(ozzy.age)"
   ]
  },
  {
   "cell_type": "code",
   "execution_count": 7,
   "id": "2d699038",
   "metadata": {},
   "outputs": [
    {
     "name": "stdout",
     "output_type": "stream",
     "text": [
      "Ozzy is 2 year(s) old.\n"
     ]
    }
   ],
   "source": [
    "# This can also be combined in a more elaborate sentence:\n",
    "print(ozzy.name + \" is \" + str(ozzy.age) + \" year(s) old.\") # The str() function is used here to convert the age \n",
    "# attribute, which is an integer, to a string, so you can use it in the print() function."
   ]
  },
  {
   "cell_type": "code",
   "execution_count": 8,
   "id": "6e5f45ff",
   "metadata": {},
   "outputs": [],
   "source": [
    "# Define methods in a class\n",
    "class Dog:\n",
    "\n",
    "    def __init__(self, name, age):  \n",
    "        self.name = name\n",
    "        self.age = age\n",
    "\n",
    "    def bark(self):\n",
    "        print(\"bark bark!\")"
   ]
  },
  {
   "cell_type": "code",
   "execution_count": 9,
   "id": "13016b7f",
   "metadata": {},
   "outputs": [
    {
     "name": "stdout",
     "output_type": "stream",
     "text": [
      "bark bark!\n"
     ]
    }
   ],
   "source": [
    "ozzy = Dog(\"Ozzy\", 2)\n",
    "# The bark method can now be called using the dot notation, after instantiating a new ozzy object. \n",
    "ozzy.bark()"
   ]
  },
  {
   "cell_type": "code",
   "execution_count": 10,
   "id": "89be9b64",
   "metadata": {},
   "outputs": [
    {
     "name": "stdout",
     "output_type": "stream",
     "text": [
      "Ozzy is 2 year(s) old.\n",
      "Skippy is 12 year(s) old.\n",
      "Filou is 8 year(s) old.\n"
     ]
    }
   ],
   "source": [
    "# The code below now implements this functionality in the Dog class, with the doginfo() method. You then \n",
    "# instantiate some objects with different properties, and call the method on them.\n",
    "class Dog:\n",
    "\n",
    "    def __init__(self, name, age):  \n",
    "        self.name = name\n",
    "        self.age = age\n",
    "\n",
    "    def bark(self):\n",
    "        print(\"bark bark!\")\n",
    "\n",
    "    def doginfo(self):\n",
    "        print(self.name + \" is \" + str(self.age) + \" year(s) old.\")\n",
    "\n",
    "ozzy = Dog(\"Ozzy\", 2)\n",
    "skippy = Dog(\"Skippy\", 12)\n",
    "filou = Dog(\"Filou\", 8)\n",
    "\n",
    "# you can call the doginfo() method on objects with the dot notation\n",
    "ozzy.doginfo()\n",
    "skippy.doginfo()\n",
    "filou.doginfo()"
   ]
  },
  {
   "cell_type": "code",
   "execution_count": 11,
   "id": "af795885",
   "metadata": {},
   "outputs": [
    {
     "name": "stdout",
     "output_type": "stream",
     "text": [
      "3\n"
     ]
    }
   ],
   "source": [
    "# Since dogs get older, it would be nice if you could adjust their age accordingly. Ozzy just turned 3, so let's \n",
    "# change his age.\n",
    "ozzy.age = 3\n",
    "print(ozzy.age)"
   ]
  },
  {
   "cell_type": "code",
   "execution_count": 15,
   "id": "0d3f8cc0",
   "metadata": {},
   "outputs": [
    {
     "name": "stdout",
     "output_type": "stream",
     "text": [
      "2\n"
     ]
    }
   ],
   "source": [
    "# It's as easy as assigning a new value to the attribute. You could also implement this as a birthday() method in \n",
    "# the Dog class:\n",
    "class Dog:\n",
    "\n",
    "    def __init__(self, name, age):  \n",
    "        self.name = name\n",
    "        self.age = age\n",
    "\n",
    "    def bark(self):\n",
    "        print(\"bark bark!\")\n",
    "\n",
    "    def doginfo(self):\n",
    "        print(self.name + \" is \" + str(self.age) + \" year(s) old.\")\n",
    "\n",
    "    def birthday(self):\n",
    "        self.age +=1\n",
    "\n",
    "ozzy = Dog(\"Ozzy\", 2)\n",
    "\n",
    "print(ozzy.age)"
   ]
  },
  {
   "cell_type": "code",
   "execution_count": 16,
   "id": "c4212c8a",
   "metadata": {},
   "outputs": [
    {
     "name": "stdout",
     "output_type": "stream",
     "text": [
      "3\n"
     ]
    }
   ],
   "source": [
    "# Now, you don't need to manually change the dog's age. whenever it is its birthday, you can just call the \n",
    "# birthday() method. \n",
    "ozzy.birthday()\n",
    "print(ozzy.age)"
   ]
  },
  {
   "cell_type": "markdown",
   "id": "0b8fd85e",
   "metadata": {},
   "source": [
    "# Passing arguments to methods"
   ]
  },
  {
   "cell_type": "code",
   "execution_count": 17,
   "id": "493a3069",
   "metadata": {},
   "outputs": [],
   "source": [
    "class Dog:\n",
    "\n",
    "    def __init__(self, name, age):  \n",
    "        self.name = name\n",
    "        self.age = age\n",
    "\n",
    "    def bark(self):\n",
    "        print(\"bark bark!\")\n",
    "\n",
    "    def doginfo(self):\n",
    "        print(self.name + \" is \" + str(self.age) + \" year(s) old.\")\n",
    "\n",
    "    def birthday(self):\n",
    "        self.age +=1\n",
    "        \n",
    "    # Take a look at the setBuddy() method below. It takes self, as per usual, and buddy as arguments. In this \n",
    "    # case, buddy will be another Dog object. Set the self.buddy attribute to buddy, and the buddy.buddy attribute \n",
    "    # to self. This means that the relationship is reciprocal; you are your buddy's buddy. In this case, Filou will\n",
    "    # be Ozzy's buddy, which means that Ozzy automatically becomes Filou's buddy.\n",
    "    def setBuddy(self, buddy):\n",
    "        self.buddy = buddy\n",
    "        buddy.buddy = self"
   ]
  },
  {
   "cell_type": "code",
   "execution_count": 18,
   "id": "936c9efa",
   "metadata": {},
   "outputs": [],
   "source": [
    "ozzy = Dog(\"Ozzy\", 2)\n",
    "filou = Dog(\"Filou\", 8)\n",
    "\n",
    "ozzy.setBuddy(filou)"
   ]
  },
  {
   "cell_type": "code",
   "execution_count": 19,
   "id": "21c3362c",
   "metadata": {},
   "outputs": [
    {
     "name": "stdout",
     "output_type": "stream",
     "text": [
      "Filou\n",
      "8\n"
     ]
    }
   ],
   "source": [
    "# If you now want to get some information about Ozzy's buddy, you can use the dot notation twice: First, to refer \n",
    "# to Ozzy's buddy, and a second time to refer to its attribute.\n",
    "print(ozzy.buddy.name)\n",
    "print(ozzy.buddy.age)"
   ]
  },
  {
   "cell_type": "code",
   "execution_count": 20,
   "id": "b5b31f22",
   "metadata": {},
   "outputs": [
    {
     "name": "stdout",
     "output_type": "stream",
     "text": [
      "Ozzy\n",
      "2\n"
     ]
    }
   ],
   "source": [
    "# Notice how this can also be done for Filou.\n",
    "print(filou.buddy.name)\n",
    "print(filou.buddy.age)"
   ]
  },
  {
   "cell_type": "code",
   "execution_count": 22,
   "id": "dbd74680",
   "metadata": {},
   "outputs": [
    {
     "name": "stdout",
     "output_type": "stream",
     "text": [
      "Filou is 8 year(s) old.\n"
     ]
    }
   ],
   "source": [
    "# The buddy's methods can also be called. The self argument that gets passed to doginfo() is now ozzy.buddy, which \n",
    "# is filou.\n",
    "ozzy.buddy.doginfo()"
   ]
  }
 ],
 "metadata": {
  "kernelspec": {
   "display_name": "Python 3 (ipykernel)",
   "language": "python",
   "name": "python3"
  },
  "language_info": {
   "codemirror_mode": {
    "name": "ipython",
    "version": 3
   },
   "file_extension": ".py",
   "mimetype": "text/x-python",
   "name": "python",
   "nbconvert_exporter": "python",
   "pygments_lexer": "ipython3",
   "version": "3.7.6"
  }
 },
 "nbformat": 4,
 "nbformat_minor": 5
}
